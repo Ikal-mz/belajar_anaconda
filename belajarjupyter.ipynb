{
 "cells": [
  {
   "cell_type": "markdown",
   "id": "3ff72e05-7bf8-4bd3-bc05-27ae40249624",
   "metadata": {},
   "source": [
    "saya belajar python dengan jupyter"
   ]
  },
  {
   "cell_type": "code",
   "execution_count": 12,
   "id": "7a82d216-2efe-4946-b309-523d00780ec2",
   "metadata": {},
   "outputs": [
    {
     "name": "stdout",
     "output_type": "stream",
     "text": [
      "ketikan SHIFT + ENTER untuk menjalankan\n"
     ]
    }
   ],
   "source": [
    "print(\"ketikan SHIFT + ENTER untuk menjalankan\")"
   ]
  },
  {
   "cell_type": "code",
   "execution_count": 18,
   "id": "cd127a06-5575-4a37-a8da-0413b0582d55",
   "metadata": {},
   "outputs": [
    {
     "data": {
      "text/plain": [
       "3"
      ]
     },
     "execution_count": 18,
     "metadata": {},
     "output_type": "execute_result"
    }
   ],
   "source": [
    "1+2"
   ]
  },
  {
   "cell_type": "markdown",
   "id": "07eceb75-0ee4-46c9-9253-fb04459c758e",
   "metadata": {},
   "source": [
    "jika ingin menambahkan line tanpa eksekusi ketikan ALT+ENTER"
   ]
  },
  {
   "cell_type": "code",
   "execution_count": 34,
   "id": "c960f227-a2b1-4ea7-9936-25efbd31353e",
   "metadata": {},
   "outputs": [
    {
     "data": {
      "text/plain": [
       "180"
      ]
     },
     "execution_count": 34,
     "metadata": {},
     "output_type": "execute_result"
    }
   ],
   "source": [
    "20*9"
   ]
  },
  {
   "cell_type": "code",
   "execution_count": 36,
   "id": "cd34f4ee-bb6c-426d-b216-96be2abd9158",
   "metadata": {},
   "outputs": [
    {
     "data": {
      "text/plain": [
       "240"
      ]
     },
     "execution_count": 36,
     "metadata": {},
     "output_type": "execute_result"
    }
   ],
   "source": [
    "80*3"
   ]
  },
  {
   "cell_type": "code",
   "execution_count": null,
   "id": "7488a3a5-bed0-4c7f-9217-7f5923d242e9",
   "metadata": {},
   "outputs": [],
   "source": []
  },
  {
   "cell_type": "code",
   "execution_count": null,
   "id": "eaddd5f8-5f59-4f5e-a027-7ea6325c04b1",
   "metadata": {},
   "outputs": [],
   "source": []
  },
  {
   "cell_type": "code",
   "execution_count": null,
   "id": "fd556ff7-06ad-4ab6-86cb-2902d0fb4ff1",
   "metadata": {},
   "outputs": [],
   "source": []
  },
  {
   "cell_type": "code",
   "execution_count": null,
   "id": "689eb8b7-afa8-4681-b3ad-a5c9876a3588",
   "metadata": {},
   "outputs": [],
   "source": []
  },
  {
   "cell_type": "code",
   "execution_count": null,
   "id": "6bf57136-601c-4fcd-b747-9858b7d708df",
   "metadata": {},
   "outputs": [],
   "source": []
  },
  {
   "cell_type": "code",
   "execution_count": null,
   "id": "b4db3fa3-8b6a-44c4-bda9-98309615d637",
   "metadata": {},
   "outputs": [],
   "source": []
  },
  {
   "cell_type": "code",
   "execution_count": null,
   "id": "dd310859-0cee-4262-a288-7e1e51844a56",
   "metadata": {},
   "outputs": [],
   "source": []
  },
  {
   "cell_type": "code",
   "execution_count": null,
   "id": "31c2d808-d5d0-421d-a91d-bccd34b8491c",
   "metadata": {},
   "outputs": [],
   "source": []
  },
  {
   "cell_type": "code",
   "execution_count": null,
   "id": "633812aa-014a-46af-83d5-99ebd802c5f6",
   "metadata": {},
   "outputs": [],
   "source": []
  }
 ],
 "metadata": {
  "kernelspec": {
   "display_name": "Python [conda env:base] *",
   "language": "python",
   "name": "conda-base-py"
  },
  "language_info": {
   "codemirror_mode": {
    "name": "ipython",
    "version": 3
   },
   "file_extension": ".py",
   "mimetype": "text/x-python",
   "name": "python",
   "nbconvert_exporter": "python",
   "pygments_lexer": "ipython3",
   "version": "3.12.7"
  }
 },
 "nbformat": 4,
 "nbformat_minor": 5
}
