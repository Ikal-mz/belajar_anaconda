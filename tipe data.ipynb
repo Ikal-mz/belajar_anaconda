{
 "cells": [
  {
   "cell_type": "code",
   "execution_count": 2,
   "id": "a63843c0-15ee-495a-aaa5-8534e197178a",
   "metadata": {},
   "outputs": [
    {
     "data": {
      "text/plain": [
       "6"
      ]
     },
     "execution_count": 2,
     "metadata": {},
     "output_type": "execute_result"
    }
   ],
   "source": [
    "2*3"
   ]
  },
  {
   "cell_type": "code",
   "execution_count": 10,
   "id": "013b4926-ca1e-450c-85a2-ed033efd88c9",
   "metadata": {},
   "outputs": [],
   "source": [
    "bil1 = 3"
   ]
  },
  {
   "cell_type": "code",
   "execution_count": 6,
   "id": "db2cca0a-aac5-4264-904b-3e3824e4f665",
   "metadata": {},
   "outputs": [
    {
     "data": {
      "text/plain": [
       "3"
      ]
     },
     "execution_count": 6,
     "metadata": {},
     "output_type": "execute_result"
    }
   ],
   "source": [
    "bil1"
   ]
  },
  {
   "cell_type": "code",
   "execution_count": 12,
   "id": "42ca8fa4-1d7e-4701-8f0d-cf7dd6a0f05b",
   "metadata": {},
   "outputs": [
    {
     "data": {
      "text/plain": [
       "float"
      ]
     },
     "execution_count": 12,
     "metadata": {},
     "output_type": "execute_result"
    }
   ],
   "source": [
    "type(bil1)"
   ]
  },
  {
   "cell_type": "code",
   "execution_count": 18,
   "id": "f3a4b6ae-c76d-458d-8839-baa4dc28b81f",
   "metadata": {},
   "outputs": [],
   "source": [
    "bil2=bil1/2"
   ]
  },
  {
   "cell_type": "code",
   "execution_count": 20,
   "id": "60870489-d1d3-4f51-8559-ad891aa9e81a",
   "metadata": {},
   "outputs": [
    {
     "data": {
      "text/plain": [
       "1.6"
      ]
     },
     "execution_count": 20,
     "metadata": {},
     "output_type": "execute_result"
    }
   ],
   "source": [
    "bil2"
   ]
  },
  {
   "cell_type": "code",
   "execution_count": 16,
   "id": "85a95a33-3693-4a11-ae06-5ac9f7836c0c",
   "metadata": {},
   "outputs": [
    {
     "data": {
      "text/plain": [
       "float"
      ]
     },
     "execution_count": 16,
     "metadata": {},
     "output_type": "execute_result"
    }
   ],
   "source": [
    "type(bil2)"
   ]
  },
  {
   "cell_type": "markdown",
   "id": "558b8f67-8807-4d2f-80d2-1719aa132836",
   "metadata": {},
   "source": [
    "## penggunaan modulus (%) di python"
   ]
  },
  {
   "cell_type": "code",
   "execution_count": 27,
   "id": "dca81abf-0db4-48ab-be16-cb7ae7cd1820",
   "metadata": {},
   "outputs": [],
   "source": [
    "a1=6/2"
   ]
  },
  {
   "cell_type": "code",
   "execution_count": 29,
   "id": "658b8570-e0dc-4ac0-ac39-43f071844892",
   "metadata": {},
   "outputs": [
    {
     "data": {
      "text/plain": [
       "3.0"
      ]
     },
     "execution_count": 29,
     "metadata": {},
     "output_type": "execute_result"
    }
   ],
   "source": [
    "a1"
   ]
  },
  {
   "cell_type": "code",
   "execution_count": 31,
   "id": "1d95d585-c095-4283-8396-b00db0ec19fc",
   "metadata": {},
   "outputs": [
    {
     "data": {
      "text/plain": [
       "float"
      ]
     },
     "execution_count": 31,
     "metadata": {},
     "output_type": "execute_result"
    }
   ],
   "source": [
    "type(a1)"
   ]
  },
  {
   "cell_type": "code",
   "execution_count": 45,
   "id": "09142492-a90b-4c85-80c4-91271f328ecd",
   "metadata": {},
   "outputs": [],
   "source": [
    "m=6%2"
   ]
  },
  {
   "cell_type": "code",
   "execution_count": 49,
   "id": "b8ad9f79-c5f8-4291-9e27-b8ed5ddb17a1",
   "metadata": {},
   "outputs": [
    {
     "data": {
      "text/plain": [
       "0"
      ]
     },
     "execution_count": 49,
     "metadata": {},
     "output_type": "execute_result"
    }
   ],
   "source": [
    "m"
   ]
  },
  {
   "cell_type": "code",
   "execution_count": 47,
   "id": "26c91a5e-ca76-46c4-9116-4d41b492c0c0",
   "metadata": {},
   "outputs": [
    {
     "data": {
      "text/plain": [
       "int"
      ]
     },
     "execution_count": 47,
     "metadata": {},
     "output_type": "execute_result"
    }
   ],
   "source": [
    "type(m)"
   ]
  },
  {
   "cell_type": "markdown",
   "id": "3277d452-4a9c-4a83-a6d2-3a2014a3db5b",
   "metadata": {},
   "source": [
    "## penggunaan pangkat (**) dan aturan matematika di python"
   ]
  },
  {
   "cell_type": "code",
   "execution_count": 54,
   "id": "0f1fdd6b-4d8e-4e47-bc2c-b3f3535d77ef",
   "metadata": {},
   "outputs": [
    {
     "data": {
      "text/plain": [
       "9"
      ]
     },
     "execution_count": 54,
     "metadata": {},
     "output_type": "execute_result"
    }
   ],
   "source": [
    "3*3"
   ]
  },
  {
   "cell_type": "code",
   "execution_count": 56,
   "id": "4c8e6708-eacd-440c-8654-330f500d887c",
   "metadata": {},
   "outputs": [
    {
     "data": {
      "text/plain": [
       "27"
      ]
     },
     "execution_count": 56,
     "metadata": {},
     "output_type": "execute_result"
    }
   ],
   "source": [
    "3**3"
   ]
  },
  {
   "cell_type": "code",
   "execution_count": 58,
   "id": "b288be4b-32c2-4416-b536-01eb08cb8c98",
   "metadata": {},
   "outputs": [
    {
     "data": {
      "text/plain": [
       "27"
      ]
     },
     "execution_count": 58,
     "metadata": {},
     "output_type": "execute_result"
    }
   ],
   "source": [
    "3*3*3"
   ]
  },
  {
   "cell_type": "code",
   "execution_count": 60,
   "id": "36d22c25-eb7a-4eec-ae81-f520dd659fc5",
   "metadata": {},
   "outputs": [
    {
     "data": {
      "text/plain": [
       "15"
      ]
     },
     "execution_count": 60,
     "metadata": {},
     "output_type": "execute_result"
    }
   ],
   "source": [
    "1+2*3+4*2"
   ]
  },
  {
   "cell_type": "code",
   "execution_count": 64,
   "id": "2f8b1351-627e-4994-9728-bb8ced5d2c51",
   "metadata": {},
   "outputs": [
    {
     "data": {
      "text/plain": [
       "17"
      ]
     },
     "execution_count": 64,
     "metadata": {},
     "output_type": "execute_result"
    }
   ],
   "source": [
    "(1+2)*3+(4*2)"
   ]
  },
  {
   "cell_type": "markdown",
   "id": "defdc20e-cd94-45e7-8932-bf7035c1d941",
   "metadata": {},
   "source": [
    "## indexing dan slicing di python"
   ]
  },
  {
   "cell_type": "code",
   "execution_count": 69,
   "id": "8c7190f4-a130-488e-83be-258ff6532006",
   "metadata": {},
   "outputs": [],
   "source": [
    "item = ['satu','dua','tiga']"
   ]
  },
  {
   "cell_type": "code",
   "execution_count": 71,
   "id": "f3680299-2907-42b1-a54d-a749f2c00cf9",
   "metadata": {},
   "outputs": [
    {
     "data": {
      "text/plain": [
       "['satu', 'dua', 'tiga']"
      ]
     },
     "execution_count": 71,
     "metadata": {},
     "output_type": "execute_result"
    }
   ],
   "source": [
    "item"
   ]
  },
  {
   "cell_type": "code",
   "execution_count": 73,
   "id": "548808da-f5a3-4c74-bcc6-490e9dc1704a",
   "metadata": {},
   "outputs": [
    {
     "data": {
      "text/plain": [
       "'tiga'"
      ]
     },
     "execution_count": 73,
     "metadata": {},
     "output_type": "execute_result"
    }
   ],
   "source": [
    "item[2]"
   ]
  },
  {
   "cell_type": "code",
   "execution_count": 75,
   "id": "20dddd8d-46ce-4fe6-bccb-3c837affebc2",
   "metadata": {},
   "outputs": [
    {
     "data": {
      "text/plain": [
       "\"jum'at\""
      ]
     },
     "execution_count": 75,
     "metadata": {},
     "output_type": "execute_result"
    }
   ],
   "source": [
    "\"jum'at\""
   ]
  },
  {
   "cell_type": "code",
   "execution_count": 77,
   "id": "d7a43f3b-09f4-440d-a4f8-b21f05ab6157",
   "metadata": {},
   "outputs": [
    {
     "ename": "SyntaxError",
     "evalue": "unterminated string literal (detected at line 1) (3735155389.py, line 1)",
     "output_type": "error",
     "traceback": [
      "\u001b[0;36m  Cell \u001b[0;32mIn[77], line 1\u001b[0;36m\u001b[0m\n\u001b[0;31m    'jum'at'\u001b[0m\n\u001b[0m           ^\u001b[0m\n\u001b[0;31mSyntaxError\u001b[0m\u001b[0;31m:\u001b[0m unterminated string literal (detected at line 1)\n"
     ]
    }
   ],
   "source": [
    "'jum'at'"
   ]
  },
  {
   "cell_type": "code",
   "execution_count": 79,
   "id": "fc5e8278-c339-45d8-b87e-c0b060b01b0a",
   "metadata": {},
   "outputs": [
    {
     "data": {
      "text/plain": [
       "'fokus belajar python'"
      ]
     },
     "execution_count": 79,
     "metadata": {},
     "output_type": "execute_result"
    }
   ],
   "source": [
    "\"fokus belajar python\""
   ]
  },
  {
   "cell_type": "code",
   "execution_count": 81,
   "id": "91849629-7531-45e4-a5c1-2a2dbb048cb5",
   "metadata": {},
   "outputs": [
    {
     "data": {
      "text/plain": [
       "'k'"
      ]
     },
     "execution_count": 81,
     "metadata": {},
     "output_type": "execute_result"
    }
   ],
   "source": [
    "\"fokus belajar python\"[2]"
   ]
  },
  {
   "cell_type": "code",
   "execution_count": 85,
   "id": "36bca291-9592-4501-9e00-bca2dc955004",
   "metadata": {},
   "outputs": [
    {
     "data": {
      "text/plain": [
       "'kus belaj'"
      ]
     },
     "execution_count": 85,
     "metadata": {},
     "output_type": "execute_result"
    }
   ],
   "source": [
    "\"fokus belajar python\"[2:11]"
   ]
  },
  {
   "cell_type": "markdown",
   "id": "7f39f082-d27b-41d9-9044-539bff814ec9",
   "metadata": {},
   "source": [
    "### slicing\n",
    "[awal:akhir;jarak]"
   ]
  },
  {
   "cell_type": "code",
   "execution_count": 91,
   "id": "e0b3269c-4de2-4d53-9145-ee6f451aec5b",
   "metadata": {},
   "outputs": [
    {
     "data": {
      "text/plain": [
       "'ksbljrpto'"
      ]
     },
     "execution_count": 91,
     "metadata": {},
     "output_type": "execute_result"
    }
   ],
   "source": [
    "\"fokus belajar python\"[2:-1:2]"
   ]
  },
  {
   "cell_type": "code",
   "execution_count": 97,
   "id": "862c6fa4-a391-476e-a857-616cb3b12914",
   "metadata": {},
   "outputs": [
    {
     "data": {
      "text/plain": [
       "'nohtyp rajaleb sukof'"
      ]
     },
     "execution_count": 97,
     "metadata": {},
     "output_type": "execute_result"
    }
   ],
   "source": [
    "\"fokus belajar python\"[::-1]"
   ]
  },
  {
   "cell_type": "code",
   "execution_count": 105,
   "id": "959930e3-dcad-488c-ae86-c23927433ba2",
   "metadata": {},
   "outputs": [],
   "source": [
    "item_a = [1,2,3,4,5,6,7,8,9,0]"
   ]
  },
  {
   "cell_type": "code",
   "execution_count": 107,
   "id": "301a84a0-5e8d-4737-8549-75bc8194e30a",
   "metadata": {},
   "outputs": [
    {
     "data": {
      "text/plain": [
       "[1, 2, 3, 4, 5, 6, 7, 8, 9, 0]"
      ]
     },
     "execution_count": 107,
     "metadata": {},
     "output_type": "execute_result"
    }
   ],
   "source": [
    "item_a"
   ]
  },
  {
   "cell_type": "code",
   "execution_count": 109,
   "id": "a763bf5c-258c-41d5-8c56-4737d3a5af37",
   "metadata": {},
   "outputs": [
    {
     "data": {
      "text/plain": [
       "[3, 6, 9]"
      ]
     },
     "execution_count": 109,
     "metadata": {},
     "output_type": "execute_result"
    }
   ],
   "source": [
    "item[3::3]"
   ]
  },
  {
   "cell_type": "code",
   "execution_count": null,
   "id": "27f6fc9c-537a-4e28-8456-9cfc8fa20d49",
   "metadata": {},
   "outputs": [],
   "source": []
  }
 ],
 "metadata": {
  "kernelspec": {
   "display_name": "Python [conda env:base] *",
   "language": "python",
   "name": "conda-base-py"
  },
  "language_info": {
   "codemirror_mode": {
    "name": "ipython",
    "version": 3
   },
   "file_extension": ".py",
   "mimetype": "text/x-python",
   "name": "python",
   "nbconvert_exporter": "python",
   "pygments_lexer": "ipython3",
   "version": "3.12.7"
  }
 },
 "nbformat": 4,
 "nbformat_minor": 5
}
