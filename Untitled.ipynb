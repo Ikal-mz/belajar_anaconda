{
 "cells": [
  {
   "cell_type": "markdown",
   "id": "11198e3d-6cd2-4f19-ade6-11c48cc1f3c3",
   "metadata": {},
   "source": [
    "# belajar python menggunakan jupyter"
   ]
  },
  {
   "cell_type": "markdown",
   "id": "0357f72d-1577-48d4-9b3d-a1f7673f2aed",
   "metadata": {},
   "source": [
    "fokus terus belajar python"
   ]
  },
  {
   "cell_type": "markdown",
   "id": "42072cf2-5112-42ae-92ec-872873323803",
   "metadata": {},
   "source": [
    "# (#)heding 1\n",
    "## (##)heding 2\n",
    "### (###) heading 3\n",
    "#### (####) heading 4\n",
    "##### (######) heading 5\n",
    "###### (######) heading 6"
   ]
  },
  {
   "cell_type": "markdown",
   "id": "ef80d858-e592-4817-bee2-229a5a01ac43",
   "metadata": {},
   "source": [
    "membuat teks menjadi **tebal/bold** mengunakan ** text **"
   ]
  },
  {
   "cell_type": "markdown",
   "id": "392ac033-2613-4a04-8711-70e36f4ee2ff",
   "metadata": {},
   "source": [
    "*kombinasi **bold** dan italic/miring* mengunakan * miring ** tebal dalam miring ** *"
   ]
  },
  {
   "cell_type": "markdown",
   "id": "085434b9-0690-4470-a2bb-19f8d66ae5d1",
   "metadata": {},
   "source": [
    "> \"ini adalah kutipan\" mengunakan (>)"
   ]
  },
  {
   "cell_type": "markdown",
   "id": "dc36ec92-d535-48bc-84d5-af1c6ab24510",
   "metadata": {},
   "source": [
    "ini adalah list mengunakan (*)\n",
    "* pertama\n",
    "* kedua\n",
    "* ketiga list dalam list\n",
    "  * list dalam 1\n",
    "  * list dalam 2"
   ]
  },
  {
   "cell_type": "markdown",
   "id": "0304d796-f5ab-4310-9617-6e7cb008b7cd",
   "metadata": {},
   "source": [
    "membuat list dengan nomor menggunakan angka (1.):\n",
    "1. satu\n",
    "2. dua\n",
    "3. tiga"
   ]
  },
  {
   "cell_type": "markdown",
   "id": "9d65bb42-4c2b-4e67-b2c8-3652a27b5247",
   "metadata": {},
   "source": [
    "untuk membuat format menjadi tidak terbaca gunakan tanda \\\n",
    "contoh:\n",
    "1. \\*ini tidak akan miring*\n",
    "2. \\*\\*ini tidak akan tebal**"
   ]
  },
  {
   "cell_type": "markdown",
   "id": "8b6648f7-0a1e-4635-b5e1-4632a360dc33",
   "metadata": {},
   "source": [
    "![gambar](gaul.jpeg)"
   ]
  },
  {
   "cell_type": "code",
   "execution_count": null,
   "id": "199c1d66-b8f4-4f17-a546-d2370cd55978",
   "metadata": {},
   "outputs": [],
   "source": []
  }
 ],
 "metadata": {
  "kernelspec": {
   "display_name": "Python [conda env:base] *",
   "language": "python",
   "name": "conda-base-py"
  },
  "language_info": {
   "codemirror_mode": {
    "name": "ipython",
    "version": 3
   },
   "file_extension": ".py",
   "mimetype": "text/x-python",
   "name": "python",
   "nbconvert_exporter": "python",
   "pygments_lexer": "ipython3",
   "version": "3.12.7"
  }
 },
 "nbformat": 4,
 "nbformat_minor": 5
}
