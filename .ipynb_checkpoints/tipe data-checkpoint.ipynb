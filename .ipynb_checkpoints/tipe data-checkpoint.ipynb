{
 "cells": [
  {
   "cell_type": "code",
   "execution_count": 2,
   "id": "a63843c0-15ee-495a-aaa5-8534e197178a",
   "metadata": {},
   "outputs": [
    {
     "data": {
      "text/plain": [
       "6"
      ]
     },
     "execution_count": 2,
     "metadata": {},
     "output_type": "execute_result"
    }
   ],
   "source": [
    "2*3"
   ]
  },
  {
   "cell_type": "code",
   "execution_count": 10,
   "id": "013b4926-ca1e-450c-85a2-ed033efd88c9",
   "metadata": {},
   "outputs": [],
   "source": [
    "bil1 = 3"
   ]
  },
  {
   "cell_type": "code",
   "execution_count": 6,
   "id": "db2cca0a-aac5-4264-904b-3e3824e4f665",
   "metadata": {},
   "outputs": [
    {
     "data": {
      "text/plain": [
       "3"
      ]
     },
     "execution_count": 6,
     "metadata": {},
     "output_type": "execute_result"
    }
   ],
   "source": [
    "bil1"
   ]
  },
  {
   "cell_type": "code",
   "execution_count": 12,
   "id": "42ca8fa4-1d7e-4701-8f0d-cf7dd6a0f05b",
   "metadata": {},
   "outputs": [
    {
     "data": {
      "text/plain": [
       "float"
      ]
     },
     "execution_count": 12,
     "metadata": {},
     "output_type": "execute_result"
    }
   ],
   "source": [
    "type(bil1)"
   ]
  },
  {
   "cell_type": "code",
   "execution_count": 18,
   "id": "f3a4b6ae-c76d-458d-8839-baa4dc28b81f",
   "metadata": {},
   "outputs": [],
   "source": [
    "bil2=bil1/2"
   ]
  },
  {
   "cell_type": "code",
   "execution_count": 20,
   "id": "60870489-d1d3-4f51-8559-ad891aa9e81a",
   "metadata": {},
   "outputs": [
    {
     "data": {
      "text/plain": [
       "1.6"
      ]
     },
     "execution_count": 20,
     "metadata": {},
     "output_type": "execute_result"
    }
   ],
   "source": [
    "bil2"
   ]
  },
  {
   "cell_type": "code",
   "execution_count": 16,
   "id": "85a95a33-3693-4a11-ae06-5ac9f7836c0c",
   "metadata": {},
   "outputs": [
    {
     "data": {
      "text/plain": [
       "float"
      ]
     },
     "execution_count": 16,
     "metadata": {},
     "output_type": "execute_result"
    }
   ],
   "source": [
    "type(bil2)"
   ]
  },
  {
   "cell_type": "markdown",
   "id": "558b8f67-8807-4d2f-80d2-1719aa132836",
   "metadata": {},
   "source": [
    "## penggunaan modulus (%) di python"
   ]
  },
  {
   "cell_type": "code",
   "execution_count": 27,
   "id": "dca81abf-0db4-48ab-be16-cb7ae7cd1820",
   "metadata": {},
   "outputs": [],
   "source": [
    "a1=6/2"
   ]
  },
  {
   "cell_type": "code",
   "execution_count": 29,
   "id": "658b8570-e0dc-4ac0-ac39-43f071844892",
   "metadata": {},
   "outputs": [
    {
     "data": {
      "text/plain": [
       "3.0"
      ]
     },
     "execution_count": 29,
     "metadata": {},
     "output_type": "execute_result"
    }
   ],
   "source": [
    "a1"
   ]
  },
  {
   "cell_type": "code",
   "execution_count": 31,
   "id": "1d95d585-c095-4283-8396-b00db0ec19fc",
   "metadata": {},
   "outputs": [
    {
     "data": {
      "text/plain": [
       "float"
      ]
     },
     "execution_count": 31,
     "metadata": {},
     "output_type": "execute_result"
    }
   ],
   "source": [
    "type(a1)"
   ]
  },
  {
   "cell_type": "code",
   "execution_count": 45,
   "id": "09142492-a90b-4c85-80c4-91271f328ecd",
   "metadata": {},
   "outputs": [],
   "source": [
    "m=6%2"
   ]
  },
  {
   "cell_type": "code",
   "execution_count": 49,
   "id": "b8ad9f79-c5f8-4291-9e27-b8ed5ddb17a1",
   "metadata": {},
   "outputs": [
    {
     "data": {
      "text/plain": [
       "0"
      ]
     },
     "execution_count": 49,
     "metadata": {},
     "output_type": "execute_result"
    }
   ],
   "source": [
    "m"
   ]
  },
  {
   "cell_type": "code",
   "execution_count": 47,
   "id": "26c91a5e-ca76-46c4-9116-4d41b492c0c0",
   "metadata": {},
   "outputs": [
    {
     "data": {
      "text/plain": [
       "int"
      ]
     },
     "execution_count": 47,
     "metadata": {},
     "output_type": "execute_result"
    }
   ],
   "source": [
    "type(m)"
   ]
  },
  {
   "cell_type": "markdown",
   "id": "3277d452-4a9c-4a83-a6d2-3a2014a3db5b",
   "metadata": {},
   "source": [
    "## penggunaan pangkat (**) dan aturan matematika di python"
   ]
  },
  {
   "cell_type": "code",
   "execution_count": 54,
   "id": "0f1fdd6b-4d8e-4e47-bc2c-b3f3535d77ef",
   "metadata": {},
   "outputs": [
    {
     "data": {
      "text/plain": [
       "9"
      ]
     },
     "execution_count": 54,
     "metadata": {},
     "output_type": "execute_result"
    }
   ],
   "source": [
    "3*3"
   ]
  },
  {
   "cell_type": "code",
   "execution_count": 56,
   "id": "4c8e6708-eacd-440c-8654-330f500d887c",
   "metadata": {},
   "outputs": [
    {
     "data": {
      "text/plain": [
       "27"
      ]
     },
     "execution_count": 56,
     "metadata": {},
     "output_type": "execute_result"
    }
   ],
   "source": [
    "3**3"
   ]
  },
  {
   "cell_type": "code",
   "execution_count": 58,
   "id": "b288be4b-32c2-4416-b536-01eb08cb8c98",
   "metadata": {},
   "outputs": [
    {
     "data": {
      "text/plain": [
       "27"
      ]
     },
     "execution_count": 58,
     "metadata": {},
     "output_type": "execute_result"
    }
   ],
   "source": [
    "3*3*3"
   ]
  },
  {
   "cell_type": "code",
   "execution_count": 60,
   "id": "36d22c25-eb7a-4eec-ae81-f520dd659fc5",
   "metadata": {},
   "outputs": [
    {
     "data": {
      "text/plain": [
       "15"
      ]
     },
     "execution_count": 60,
     "metadata": {},
     "output_type": "execute_result"
    }
   ],
   "source": [
    "1+2*3+4*2"
   ]
  },
  {
   "cell_type": "code",
   "execution_count": 64,
   "id": "2f8b1351-627e-4994-9728-bb8ced5d2c51",
   "metadata": {},
   "outputs": [
    {
     "data": {
      "text/plain": [
       "17"
      ]
     },
     "execution_count": 64,
     "metadata": {},
     "output_type": "execute_result"
    }
   ],
   "source": [
    "(1+2)*3+(4*2)"
   ]
  },
  {
   "cell_type": "markdown",
   "id": "defdc20e-cd94-45e7-8932-bf7035c1d941",
   "metadata": {},
   "source": [
    "## indexing dan slicing di python"
   ]
  },
  {
   "cell_type": "code",
   "execution_count": null,
   "id": "8c7190f4-a130-488e-83be-258ff6532006",
   "metadata": {},
   "outputs": [],
   "source": [
    "item = ['satu','dua','tiga']"
   ]
  }
 ],
 "metadata": {
  "kernelspec": {
   "display_name": "Python [conda env:base] *",
   "language": "python",
   "name": "conda-base-py"
  },
  "language_info": {
   "codemirror_mode": {
    "name": "ipython",
    "version": 3
   },
   "file_extension": ".py",
   "mimetype": "text/x-python",
   "name": "python",
   "nbconvert_exporter": "python",
   "pygments_lexer": "ipython3",
   "version": "3.12.7"
  }
 },
 "nbformat": 4,
 "nbformat_minor": 5
}
